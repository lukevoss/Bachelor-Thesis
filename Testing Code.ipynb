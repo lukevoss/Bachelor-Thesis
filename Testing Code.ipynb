{
 "cells": [
  {
   "cell_type": "code",
   "execution_count": null,
   "id": "e959839b",
   "metadata": {},
   "outputs": [],
   "source": [
    "import pandas as pd\n",
    "import numpy as np\n",
    "\n",
    "import torch\n",
    "import torch.nn as nn\n",
    "import torch.optim as optim\n",
    "import torch.nn.functional as F\n",
    "\n",
    "from blitz.modules import BayesianLSTM\n",
    "from blitz.utils import variational_estimator\n",
    "\n",
    "from sklearn.model_selection import train_test_split\n",
    "from sklearn.preprocessing import StandardScaler\n",
    "\n",
    "import matplotlib.pyplot as plt\n",
    "%matplotlib inline\n",
    "\n",
    "from collections import deque"
   ]
  },
  {
   "cell_type": "code",
   "execution_count": null,
   "id": "c14b58f9",
   "metadata": {},
   "outputs": [],
   "source": [
    "!cd data && unzip stock-time-series-20050101-to-20171231"
   ]
  },
  {
   "cell_type": "code",
   "execution_count": null,
   "id": "b2008de6",
   "metadata": {},
   "outputs": [],
   "source": [
    "\"\"\"\n",
    "REMEMBER TO DOWNLOAD THE DATASET AT KAGGLE AT THIS LINK:\n",
    "https://www.kaggle.com/szrlee/stock-time-series-20050101-to-20171231\n",
    "\"\"\"\n",
    "amazon=\"data/AMZN_2006-01-01_to_2018-01-01.csv\"\n",
    "ibm=\"data/IBM_2006-01-01_to_2018-01-01.csv\"\n",
    "df = pd.read_csv(ibm)\n",
    "\n",
    "window_size = 21"
   ]
  },
  {
   "cell_type": "code",
   "execution_count": null,
   "id": "16df9083",
   "metadata": {},
   "outputs": [],
   "source": [
    "\n",
    "df.head()"
   ]
  }
 ],
 "metadata": {
  "kernelspec": {
   "display_name": "Python 3.7.1 ('torch_nish')",
   "language": "python",
   "name": "python3"
  },
  "language_info": {
   "codemirror_mode": {
    "name": "ipython",
    "version": 3
   },
   "file_extension": ".py",
   "mimetype": "text/x-python",
   "name": "python",
   "nbconvert_exporter": "python",
   "pygments_lexer": "ipython3",
   "version": "3.7.1"
  },
  "vscode": {
   "interpreter": {
    "hash": "8b3fb30ea21cc95a61844aee09cc38bd7c92febb3a25f4f4f21db830aea750fd"
   }
  }
 },
 "nbformat": 4,
 "nbformat_minor": 5
}
