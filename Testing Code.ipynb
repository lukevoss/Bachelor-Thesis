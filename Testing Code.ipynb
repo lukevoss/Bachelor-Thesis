{
 "cells": [
  {
   "cell_type": "code",
   "execution_count": null,
   "id": "e0ccd008",
   "metadata": {},
   "outputs": [],
   "source": [
    "import numpy as np\n",
    "import tensorflow as tf\n",
    "#from tensorflow.keras.layers import LSTMCell\n",
    "import tensorflow_probability as tfp\n",
    "from tensorflow_probability.python.distributions import Normal"
   ]
  },
  {
   "cell_type": "code",
   "execution_count": null,
   "id": "6fbdb62a",
   "metadata": {},
   "outputs": [],
   "source": [
    "class BayesianLSTMCell(tf.keras.layers.LSTMCell):\n",
    "\n",
    "    def __init__(self, num_units, prior, is_training, name, **kwargs):\n",
    "\n",
    "        super(BayesianLSTMCell, self).__init__(num_units, **kwargs)\n",
    "\n",
    "        self.w = None\n",
    "        self.b = None\n",
    "        self.prior = prior\n",
    "        self.layer_name = name\n",
    "        self.isTraining = is_training\n",
    "        self.num_units = num_units\n",
    "        self.kl_loss=None\n",
    "\n",
    "        print(\"Creating lstm layer:\" + name)\n",
    "\n",
    "\n",
    "    def call(self, inputs, state):\n",
    "\n",
    "        if self.w is None:\n",
    "\n",
    "            size = inputs.get_shape()[-1].value\n",
    "            self.w, self.w_mean, self.w_sd = variationalPosterior((size+self.num_units, 4*self.num_units), self.layer_name+'_weights', self.prior, self.isTraining)\n",
    "            self.b, self.b_mean, self.b_sd = variationalPosterior((4*self.num_units,1), self.layer_name+'_bias', self.prior, self.isTraining)\n",
    "\n",
    "        cell, hidden = state\n",
    "        concat_inputs_hidden = tf.concat([inputs, hidden], 1)\n",
    "        concat_inputs_hidden = tf.nn.bias_add(tf.matmul(concat_inputs_hidden, self.w), tf.squeeze(self.b))\n",
    "        # Gates: Input, New, Forget and Output\n",
    "        i, j, f, o = tf.split(value=concat_inputs_hidden, num_or_size_splits=4, axis=1)\n",
    "        new_cell = (cell * tf.sigmoid(f + self._forget_bias) + tf.sigmoid(i) * self._activation(j))\n",
    "        new_hidden = self._activation(new_cell) * tf.sigmoid(o)\n",
    "        new_state = LSTMStateTuple(new_cell, new_hidden)\n",
    "\n",
    "        return new_hidden, new_state"
   ]
  }
 ],
 "metadata": {
  "kernelspec": {
   "display_name": "Python 3 (ipykernel)",
   "language": "python",
   "name": "python3"
  },
  "language_info": {
   "codemirror_mode": {
    "name": "ipython",
    "version": 3
   },
   "file_extension": ".py",
   "mimetype": "text/x-python",
   "name": "python",
   "nbconvert_exporter": "python",
   "pygments_lexer": "ipython3",
   "version": "3.9.7"
  }
 },
 "nbformat": 4,
 "nbformat_minor": 5
}
